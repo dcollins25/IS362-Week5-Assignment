{
 "cells": [
  {
   "cell_type": "code",
   "execution_count": 1,
   "id": "37d42bcb",
   "metadata": {},
   "outputs": [],
   "source": [
    "# Dan Collins - Week 5 Assignment - IS362"
   ]
  },
  {
   "cell_type": "code",
   "execution_count": 2,
   "id": "96bb99b1",
   "metadata": {},
   "outputs": [],
   "source": [
    "# Change to the directory where the .csv files are"
   ]
  },
  {
   "cell_type": "code",
   "execution_count": 3,
   "id": "2cc0292e",
   "metadata": {},
   "outputs": [],
   "source": [
    "import os"
   ]
  },
  {
   "cell_type": "code",
   "execution_count": 7,
   "id": "03598d13",
   "metadata": {},
   "outputs": [],
   "source": [
    "new_directory = r'C:\\Users\\dmcol\\Documents\\GitWork\\IS362-Week5-Assignment'"
   ]
  },
  {
   "cell_type": "code",
   "execution_count": 8,
   "id": "1cb21d9b",
   "metadata": {},
   "outputs": [],
   "source": [
    "os.chdir(new_directory)"
   ]
  },
  {
   "cell_type": "code",
   "execution_count": 2,
   "id": "a1137008",
   "metadata": {},
   "outputs": [],
   "source": [
    "# Import pandas"
   ]
  },
  {
   "cell_type": "code",
   "execution_count": 9,
   "id": "7bcde249",
   "metadata": {},
   "outputs": [],
   "source": [
    "import pandas as pd"
   ]
  },
  {
   "cell_type": "code",
   "execution_count": 4,
   "id": "daafacc5",
   "metadata": {},
   "outputs": [],
   "source": [
    "# Read in airports.csv"
   ]
  },
  {
   "cell_type": "code",
   "execution_count": 10,
   "id": "c0c7d064",
   "metadata": {},
   "outputs": [],
   "source": [
    "airports_df = pd.read_csv('airports.csv')"
   ]
  },
  {
   "cell_type": "code",
   "execution_count": 6,
   "id": "c47be77c",
   "metadata": {},
   "outputs": [],
   "source": [
    "# Read the weather.csv file"
   ]
  },
  {
   "cell_type": "code",
   "execution_count": 11,
   "id": "820b55b4",
   "metadata": {},
   "outputs": [],
   "source": [
    "weather_df = pd.read_csv('weather.csv')"
   ]
  },
  {
   "cell_type": "code",
   "execution_count": 8,
   "id": "84c332ce",
   "metadata": {},
   "outputs": [],
   "source": [
    "# Answer question 1 and find the northernmost airport"
   ]
  },
  {
   "cell_type": "code",
   "execution_count": 12,
   "id": "520b6e19",
   "metadata": {},
   "outputs": [
    {
     "name": "stdout",
     "output_type": "stream",
     "text": [
      "Top 5 Northernmost Airports:\n",
      "Dillant Hopkins Airport (EEN): Latitude - 72.270833, Longitude - 42.898333\n",
      "Wiley Post Will Rogers Mem (BRW): Latitude - 71.285446, Longitude - -156.766003\n",
      "Wainwright Airport (AIN): Latitude - 70.638056, Longitude - -159.994722\n",
      "Wainwright As (K03): Latitude - 70.613378, Longitude - -159.86035\n",
      "Atqasuk Edward Burnell Sr Memorial Airport (ATK): Latitude - 70.4673, Longitude - -157.436\n",
      "The northernmost airport is Dillant Hopkins Airport (EEN)\n"
     ]
    }
   ],
   "source": [
    "northernmost_airports = airports_df.nlargest(5, 'lat')\n",
    "print(\"Top 5 Northernmost Airports:\")\n",
    "for i, row in northernmost_airports.iterrows():\n",
    "    print(f\"{row['name']} ({row['faa']}): Latitude - {row['lat']}, Longitude - {row['lon']}\")\n",
    "print(f\"The northernmost airport is {northernmost_airports.iloc[0]['name']} ({northernmost_airports.iloc[0]['faa']})\")"
   ]
  },
  {
   "cell_type": "code",
   "execution_count": 10,
   "id": "e16337e4",
   "metadata": {},
   "outputs": [],
   "source": [
    "# Answer question 2 and find the easternmost airport"
   ]
  },
  {
   "cell_type": "code",
   "execution_count": 13,
   "id": "c3dbfd30",
   "metadata": {},
   "outputs": [
    {
     "name": "stdout",
     "output_type": "stream",
     "text": [
      "\n",
      "Top 5 Easternmost Airports:\n",
      "Adak Airport (ADK): Latitude - 51.878, Longitude - -176.646\n",
      "Atka Airport (AKB): Latitude - 52.220278, Longitude - -174.206389\n",
      "Gambell Airport (GAM): Latitude - 63.7668, Longitude - -171.733\n",
      "Savoonga Airport (SVA): Latitude - 63.6864, Longitude - -170.493\n",
      "St Paul Island (SNP): Latitude - 57.167333, Longitude - -170.220444\n",
      "The easternmost airport is Adak Airport (ADK)\n"
     ]
    }
   ],
   "source": [
    "easternmost_airports = airports_df.nsmallest(5, 'lon')\n",
    "print(\"\\nTop 5 Easternmost Airports:\")\n",
    "for i, row in easternmost_airports.iterrows():\n",
    "    print(f\"{row['name']} ({row['faa']}): Latitude - {row['lat']}, Longitude - {row['lon']}\")\n",
    "print(f\"The easternmost airport is {easternmost_airports.iloc[0]['name']} ({easternmost_airports.iloc[0]['faa']})\")"
   ]
  },
  {
   "cell_type": "code",
   "execution_count": 12,
   "id": "64d74845",
   "metadata": {},
   "outputs": [],
   "source": [
    "# Convert the time to a date time object"
   ]
  },
  {
   "cell_type": "code",
   "execution_count": 14,
   "id": "90c1df5a",
   "metadata": {},
   "outputs": [],
   "source": [
    "weather_df['time_hour'] = pd.to_datetime(weather_df['time_hour'])"
   ]
  },
  {
   "cell_type": "code",
   "execution_count": 14,
   "id": "d6f98b7a",
   "metadata": {},
   "outputs": [],
   "source": [
    "# Find 2/13/2013 in the data"
   ]
  },
  {
   "cell_type": "code",
   "execution_count": 15,
   "id": "b4b43fca",
   "metadata": {},
   "outputs": [],
   "source": [
    "weather_feb_12_2013 = weather_df[(weather_df['time_hour'].dt.month == 2) & (weather_df['time_hour'].dt.day == 12) & (weather_df['time_hour'].dt.year == 2013)]"
   ]
  },
  {
   "cell_type": "code",
   "execution_count": 16,
   "id": "9e8c7276",
   "metadata": {},
   "outputs": [],
   "source": [
    "# Answer question 3 and find the airport with the windiest weather"
   ]
  },
  {
   "cell_type": "code",
   "execution_count": 17,
   "id": "db56678e",
   "metadata": {},
   "outputs": [],
   "source": [
    "# But first, find airports where wind direction and speed are at 0 and print a warning"
   ]
  },
  {
   "cell_type": "code",
   "execution_count": 16,
   "id": "6a519514",
   "metadata": {},
   "outputs": [],
   "source": [
    "zero_wind_count = len(weather_feb_12_2013[(weather_feb_12_2013['wind_dir'] == 0) & (weather_feb_12_2013['wind_speed'] == 0)])"
   ]
  },
  {
   "cell_type": "code",
   "execution_count": 17,
   "id": "fb11c3cc",
   "metadata": {},
   "outputs": [
    {
     "name": "stdout",
     "output_type": "stream",
     "text": [
      "\n",
      "Warning: For February 12th, 2013, 1 airports recorded 0 wind direction and wind speed.\n"
     ]
    }
   ],
   "source": [
    "if zero_wind_count > 0:\n",
    "    print(f\"\\nWarning: For February 12th, 2013, {zero_wind_count} airports recorded 0 wind direction and wind speed.\")"
   ]
  },
  {
   "cell_type": "code",
   "execution_count": 20,
   "id": "28e3044f",
   "metadata": {},
   "outputs": [],
   "source": [
    "# Print the answer to question 3"
   ]
  },
  {
   "cell_type": "code",
   "execution_count": 18,
   "id": "daaa24ba",
   "metadata": {},
   "outputs": [
    {
     "name": "stdout",
     "output_type": "stream",
     "text": [
      "\n",
      "Airport with the Windiest Weather on February 12th, 2013:\n",
      "     origin                 time_hour  wind_speed\n",
      "1009    EWR 2013-02-12 08:00:00+00:00  1048.36058\n"
     ]
    }
   ],
   "source": [
    "windiest_airport = weather_feb_12_2013[weather_feb_12_2013['wind_speed'] == weather_feb_12_2013['wind_speed'].max()]\n",
    "print(\"\\nAirport with the Windiest Weather on February 12th, 2013:\")\n",
    "print(windiest_airport[['origin', 'time_hour', 'wind_speed']])"
   ]
  }
 ],
 "metadata": {
  "kernelspec": {
   "display_name": "Python 3 (ipykernel)",
   "language": "python",
   "name": "python3"
  },
  "language_info": {
   "codemirror_mode": {
    "name": "ipython",
    "version": 3
   },
   "file_extension": ".py",
   "mimetype": "text/x-python",
   "name": "python",
   "nbconvert_exporter": "python",
   "pygments_lexer": "ipython3",
   "version": "3.9.13"
  }
 },
 "nbformat": 4,
 "nbformat_minor": 5
}
